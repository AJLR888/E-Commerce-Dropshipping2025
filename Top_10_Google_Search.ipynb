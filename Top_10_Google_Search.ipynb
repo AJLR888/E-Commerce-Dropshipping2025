{
  "nbformat": 4,
  "nbformat_minor": 0,
  "metadata": {
    "colab": {
      "provenance": [],
      "authorship_tag": "ABX9TyOiJN7UTXNM7Iby1EjYD2A8",
      "include_colab_link": true
    },
    "kernelspec": {
      "name": "python3",
      "display_name": "Python 3"
    },
    "language_info": {
      "name": "python"
    }
  },
  "cells": [
    {
      "cell_type": "markdown",
      "metadata": {
        "id": "view-in-github",
        "colab_type": "text"
      },
      "source": [
        "<a href=\"https://colab.research.google.com/github/AJLR888/E-Commerce-Dropshipping2025/blob/main/Top_10_Google_Search.ipynb\" target=\"_parent\"><img src=\"https://colab.research.google.com/assets/colab-badge.svg\" alt=\"Open In Colab\"/></a>"
      ]
    },
    {
      "cell_type": "markdown",
      "source": [
        "# Goal: Building a Python Script to Scrape Google Suggestions for Product-Related Search Phrases\n",
        "\n",
        "## Step 1: Understand How Google Suggestions Work:\n",
        "\n",
        "When you start typing in Google, it suggests common, popular search completions. These suggestions are available via a public endpoint, often used for things like browser autocomplete.\n",
        "\n",
        "We can access this with a simple HTTP GET request to:\n",
        "\n",
        "\"http://suggestqueries.google.com/complete/search?client=firefox&q=YOUR_QUERY\"\n",
        "\n",
        "Where:\n",
        "\n",
        "**client=firefox** makes it return results in JSON format.\n",
        "\n",
        "**q=YOUR_QUERY** is the keyword you’re interested in.\n",
        "\n",
        "## Step 2: Python Script\n",
        "\n",
        "Library \"requests\" to send the HTTP request to Google\n",
        "Library \"json\" to parse the response from Google\n",
        "\n",
        "\n",
        "\n"
      ],
      "metadata": {
        "id": "w3Ov07cpiRZq"
      }
    },
    {
      "cell_type": "code",
      "execution_count": 8,
      "metadata": {
        "id": "7GwMi0NDiMK7"
      },
      "outputs": [],
      "source": [
        "# Importing libraries\n",
        "import requests\n",
        "import json\n",
        "\n",
        "# Defining a function to get Google suggestions\n",
        "def get_google_suggestions(keyword):\n",
        "  \"\"\" We send a request to Google's autocomplet API and returns suggestions for the given keyword.\n",
        "\n",
        "  Args: keyword (str): The search term we want suggestions for.\n",
        "\n",
        "  Returns: A list of suggested search phrases.\n",
        "  \"\"\"\n",
        "\n",
        "  # Google's endpoint for suggestions\n",
        "  url = f\"http://suggestqueries.google.com/complete/search?client=firefox&q={keyword}\"\n",
        "\n",
        "  # Sending a Get request\n",
        "  response = requests.get(url)\n",
        "\n",
        "  # Parsing the JSON response\n",
        "  if response.status_code == 200:\n",
        "    suggestions = json.loads(response.text)[1]\n",
        "    return suggestions\n",
        "\n",
        "  else:\n",
        "    print(f\"Request failed with status code {response.status_code}\")\n",
        "    return[]"
      ]
    },
    {
      "cell_type": "markdown",
      "source": [
        "### Explanation:\n",
        "\n",
        "\n",
        "1.   The function **get_google_suggestions(keyword)** It takes one argument; -keyword-, which is the search term we want suggestions for (e.g., \"stainless steel bottle\").\n",
        "\n",
        "2.   We use **docstring** to explain the function: \"\"\" We send a request to...\n",
        "...\"\"\"\n",
        "\n",
        "3.  **url**; is were we connect to Google's suggestions API, inserting our {keyword}. f\"\" is a syntax called f-string, used to insert variables into strings.\n",
        "\n",
        "4.  **response = requests.get(url)** is used for sending the request; \"requests\" is a library we use to send a \"get\" request to teh URL. In other words, we are asking Google's server to send us inf; in this case suggestions.\n",
        "\n",
        "5.  **if response.status_code == 200** ; we are checking the status code of the response. A status code of 200 means success, hence if it is 200 it will proceed\n",
        "to extract the suggestions.\n",
        "\n",
        "6.  Parsin the JSON, **suggestions = json.loads(response.text)[1]**; The response from Google is in JSON format,\n",
        "\n",
        "  *   **response.text** gives yu the raw JSON as a string.\n",
        "  *   **json.loads()** converts that string into a Python data structure (typically a list or dictionary)\n",
        "  *   **[1]** means we are accessing the second item in the return structure, which is were the suggestions are stored.\n",
        "      * e.g.: [\"stainless steel bottle\", [\"stainless steel bottle for gym\", \"stainless steel bottle BPA free\", ...]]\n",
        "      Here, the first item is the query we sent, The second item (index 1) is a list of suggestions, which we extract and return.\n",
        "7.  else: print(f\"Request failed with status code {response.status_code}\"\n",
        "return []\n",
        "  * If the request fails, this prints an error message.\n",
        "  * The function returns an empty list, meaning no suggestions.\n"
      ],
      "metadata": {
        "id": "Dhc16lW0smUs"
      }
    },
    {
      "cell_type": "code",
      "source": [
        "\n",
        "keyword = \"El viso del alcor\"\n",
        "suggestions = get_google_suggestions(keyword)\n",
        "\n",
        "# Step 6: Print results\n",
        "print(f\"Suggestions for '{keyword}':\")\n",
        "for i, suggestion in enumerate(suggestions, 1):\n",
        "    print(f\"{i}. {suggestion}\")"
      ],
      "metadata": {
        "colab": {
          "base_uri": "https://localhost:8080/"
        },
        "id": "VssNymHLkvud",
        "outputId": "5ec40744-3c2c-40e6-a32c-1d4d646b184b"
      },
      "execution_count": 13,
      "outputs": [
        {
          "output_type": "stream",
          "name": "stdout",
          "text": [
            "Suggestions for 'El viso del alcor':\n",
            "1. el viso del alcor\n",
            "2. el viso del alcor como llegar\n",
            "3. el viso del alcor tiempo\n",
            "4. el viso del alcor sevilla\n",
            "5. el viso del alcor sede electronica\n",
            "6. el viso del alcor habitantes\n",
            "7. el viso del alcor ayuntamiento\n",
            "8. el viso del alcor codigo postal\n",
            "9. el viso del alcor maps\n",
            "10. el viso del alcor noticias\n"
          ]
        }
      ]
    },
    {
      "cell_type": "markdown",
      "source": [
        "## Explanation:\n",
        "\n",
        "1.  **for i, suggestion in enumerate(suggestions, 1):**\n",
        "  * **for i, suggestion in**;\n",
        "      * **i**; The index(starting from 1, because of the **, 1** part)\n",
        "      * **suggestion**; This is the actual suggestion string from the list |enumerate(suggestions, 1)| enumerate() is a Python function that adds a counter to our list.\n",
        "      * **sugestions**; is the list we got from Google.\n",
        "      * **1**; tells it to start counting from 1, instead of the default 0."
      ],
      "metadata": {
        "id": "DjNA1CaszHLB"
      }
    },
    {
      "cell_type": "markdown",
      "source": [
        "# Sources:\n",
        "\n",
        "HTTP Requests: https://realpython.com/python-requests/\n",
        "\n",
        "JSON: https://realpython.com/python-json/\n",
        "\n",
        "\n",
        "\n"
      ],
      "metadata": {
        "id": "DYHneiTSqU2L"
      }
    }
  ]
}